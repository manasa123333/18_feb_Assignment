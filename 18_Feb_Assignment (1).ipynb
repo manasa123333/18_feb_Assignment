{
 "cells": [
  {
   "cell_type": "markdown",
   "id": "7d49808e-c6f9-481d-85b1-cda2949b0639",
   "metadata": {},
   "source": [
    "Q1. What is an API? Give an example, where an API is used in real life."
   ]
  },
  {
   "cell_type": "markdown",
   "id": "4da843c9-b9ff-4f32-9db7-2d830f65089a",
   "metadata": {},
   "source": [
    "APIs are mechanisms that enable two software components to communicate with each other using a set of definitions and protocols.                                                                                             \n",
    "http and Tcp/ip are 2 methods of API.                                        \n",
    "API's are used by google pay,google search,gmail etc.                                                      \n",
    "By using API google pay and bank communicates.                                                                    "
   ]
  },
  {
   "cell_type": "markdown",
   "id": "c1e0a906-d72d-46e7-93a0-f008976d5e96",
   "metadata": {},
   "source": [
    "Q2. Give advantages and disadvantages of using API. "
   ]
  },
  {
   "cell_type": "markdown",
   "id": "50931878-8798-46d6-ac5c-5c1c67b25ea2",
   "metadata": {},
   "source": [
    "ADVANTAGES :                                \n",
    "1. We have the code written for us. Just plug and play. Our development time is reduced significantly.               \n",
    "2. If we are using standard APIs, then a lot of other people are using that as well. So our codebase is somewhat portable which at times is beneficial.                                 \n",
    "3. Standard APIs usually have a lot of free community support in case we need troubleshooting. If we tend to write all of your own code then we are pretty much on your own as far as debugging is concerned.                    \n",
    "\n",
    "DISADVANTAGES : \n",
    "1. Well since we are using someone else's code, we have to understand the structure and assumptions of the developer.      \n",
    "2. In case we need to tweak existing code to add some extra functionality you might need to wade through layers and layers of files just to identify the line where we need to make any changes. It can get pretty annoying at times"
   ]
  },
  {
   "cell_type": "markdown",
   "id": "9b7aeda6-6084-4c65-b80c-9a710ada2877",
   "metadata": {},
   "source": [
    "Q3. What is a Web API? Differentiate between API and Web API"
   ]
  },
  {
   "cell_type": "markdown",
   "id": "bda13e55-9292-4a07-a618-72bd6bfa12f9",
   "metadata": {},
   "source": [
    "A Web API is an application programming interface for the Web.                                                            \n",
    "If we send an api through http protocol then it is web api."
   ]
  },
  {
   "cell_type": "markdown",
   "id": "56470182-6025-4bff-8e48-a8495b98dd65",
   "metadata": {},
   "source": [
    "Q4. Explain REST and SOAP Architecture. Mention shortcomings of SOAP. "
   ]
  },
  {
   "cell_type": "markdown",
   "id": "7c0fce07-55f0-47d5-8675-d360ad6ae7e4",
   "metadata": {},
   "source": [
    "RESTful services are based on the following principles: \n",
    "Server                                            \n",
    "Client-server architecture: The client and server are separated, allowing them to evolve independently.             \n",
    "Stateless: Each request sent to the server contains all the information needed to complete the request. The server does not maintain any client context between requests.                                                    \n",
    "Cacheable: Responses from the server can be cached to improve performance.                                       \n",
    "Uniform interface: RESTful services use a uniform interface consisting of resources, HTTP verbs (GET, POST, PUT, DELETE), and hypermedia links.                                                     \n",
    "Layered system: RESTful services can be composed of multiple layers, allowing for scalability, flexibility, and security.          \n"
   ]
  },
  {
   "cell_type": "markdown",
   "id": "ee81a75c-fe98-4690-84b2-15170f325bb7",
   "metadata": {},
   "source": [
    "The SOAP specifications describe a distributed processing model in which a SOAP message is passed between SOAP nodes. The message originates at a SOAP sender and is sent to a SOAP receiver. Between the sender and the receiver, the message might be processed by one or more SOAP intermediaries.                                        \n",
    "\n",
    "A SOAP message is a one-way transmission between SOAP nodes, from a SOAP sender to a SOAP receiver, but messages can be combined to construct more complex interactions, such as request and response, and peer-to-peer conversations.             \n",
    "\n",
    "The specification also includes this information:                                        \n",
    "A set of encoding rules for expressing instances of application-defined data types.\n",
    "A convention for representing remote procedure calls and responses.\n",
    "SOAP web services architecture                                                        "
   ]
  },
  {
   "cell_type": "markdown",
   "id": "a2d1e422-fee3-477c-a839-f27041ff2e43",
   "metadata": {},
   "source": [
    "SHORTCOMINGS OF SOAP:                  \n",
    "SOAP can transfer messages only through xml files."
   ]
  },
  {
   "cell_type": "markdown",
   "id": "0989e25d-02fc-4478-b6d9-ef957363e3b6",
   "metadata": {},
   "source": [
    "Q5. Differentiate between REST and SOAP. "
   ]
  },
  {
   "cell_type": "markdown",
   "id": "ae9e8a8c-ab31-46d7-b3ab-6d8961182b72",
   "metadata": {},
   "source": [
    "\n",
    "SOAP stands for Simple Object Access Protocol and REST stands for Representational State Transfer.\n",
    "Since SOAP is a protocol, it follows a strict standard to allow communication between the client and the server whereas REST is an architectural style that doesn’t follow any strict standard but follows six constraints defined by Roy Fielding in 2000. Those constraints are – Uniform Interface, Client-Server, Stateless, Cacheable, Layered System, Code on Demand.\n",
    "SOAP uses only XML for exchanging information in its message format whereas REST is not restricted to XML and its the choice of implementer which Media-Type to use like XML, JSON, Plain-text. Moreover, REST can use SOAP protocol but SOAP cannot use REST.\n",
    "On behalf of services interfaces to business logic, SOAP uses @WebService whereas REST instead of using interfaces uses URI like @Path.\n",
    "SOAP is difficult to implement and it requires more bandwidth whereas REST is easy to implement and requires less bandwidth such as smartphones.\n",
    "Benefits of SOAP over REST as SOAP has ACID compliance transaction. Some of the applications require transaction ability which is accepted by SOAP whereas REST lacks in it.\n",
    "On the basis of Security, SOAP has SSL( Secure Socket Layer) and WS-security whereas REST has SSL and HTTPS. In the case of Bank Account Password, Card Number, etc. SOAP is preferred over REST. The security issue is all about your application requirement, you have to build security on your own. It’s about what type of protocol you use.\n",
    "SOAP cannot make use of REST since SOAP is a protocol without any architectural pattern. REST can make use of SOAP because it is an architectural pattern having protocol.\n"
   ]
  }
 ],
 "metadata": {
  "kernelspec": {
   "display_name": "Python 3 (ipykernel)",
   "language": "python",
   "name": "python3"
  },
  "language_info": {
   "codemirror_mode": {
    "name": "ipython",
    "version": 3
   },
   "file_extension": ".py",
   "mimetype": "text/x-python",
   "name": "python",
   "nbconvert_exporter": "python",
   "pygments_lexer": "ipython3",
   "version": "3.10.8"
  }
 },
 "nbformat": 4,
 "nbformat_minor": 5
}
